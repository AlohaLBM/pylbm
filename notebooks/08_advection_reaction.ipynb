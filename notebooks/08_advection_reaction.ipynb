{
 "cells": [
  {
   "cell_type": "markdown",
   "metadata": {},
   "source": [
    "# Transport equation with source term\n",
    "\n",
    "$$\n",
    "\\newcommand{\\DdQq}[2]{{\\mathrm D}_{#1}{\\mathrm Q}_{#2}}\n",
    "\\newcommand{\\drondt}{\\partial_t}\n",
    "\\newcommand{\\drondx}{\\partial_x}\n",
    "\\newcommand{\\dx}{\\Delta x}\n",
    "\\newcommand{\\dt}{\\Delta t}\n",
    "\\newcommand{\\grandO}{{\\mathcal O}}\n",
    "\\newcommand{\\density}[2]{\\,f_{#1}^{#2}}\n",
    "\\newcommand{\\fk}[1]{\\density{#1}{\\vphantom{\\star}}}\n",
    "\\newcommand{\\fks}[1]{\\density{#1}{\\star}}\n",
    "\\newcommand{\\moment}[2]{\\,m_{#1}^{#2}}\n",
    "\\newcommand{\\mk}[1]{\\moment{#1}{\\vphantom{\\star}}}\n",
    "\\newcommand{\\mke}[1]{\\moment{#1}{e}}\n",
    "\\newcommand{\\mks}[1]{\\moment{#1}{\\star}}\n",
    "$$\n",
    "\n",
    "In this tutorial, we propose to add a source term in the advection equation. The problem reads\n",
    "$$\\drondt u + c \\drondx u = S(t, x, u), \\quad t>0, , \\quad x\\in(0, 1),$$\n",
    "where $c$ is a constant scalar (typically $c=1$).\n",
    "Additional boundary and initial conditions will be given in the following.\n",
    "$S$ is the source term that can depend on the time $t$, the space $x$ and the solution $u$.\n",
    "\n",
    "In order to simulate this problem, we use the $\\DdQq{1}{2}$ scheme and we add an additional `key:value` in the dictionary for the source term. We deal with two examples."
   ]
  },
  {
   "cell_type": "markdown",
   "metadata": {},
   "source": [
    "**A friction term**\n",
    "\n",
    "In this example, we takes $S(t, x, u) = -\\alpha u$ where $\\alpha$ is a positive constant. \n",
    "The dictionary of the simulation then reads:"
   ]
  },
  {
   "cell_type": "code",
   "execution_count": 1,
   "metadata": {
    "collapsed": true
   },
   "outputs": [],
   "source": [
    "%matplotlib inline\n",
    "import sympy as sp\n",
    "import numpy as np\n",
    "import pyLBM"
   ]
  },
  {
   "cell_type": "code",
   "execution_count": 2,
   "metadata": {
    "collapsed": false
   },
   "outputs": [
    {
     "data": {
      "image/png": "[encoded data removed]",
      "text/plain": [
       "<matplotlib.figure.Figure at 0x10db526d0>"
      ]
     },
     "metadata": {},
     "output_type": "display_data"
    }
   ],
   "source": [
    "C, ALPHA, X, u, LA = sp.symbols('C, ALPHA, X, u, LA')\n",
    "c = 0.3\n",
    "alpha = 0.5\n",
    "\n",
    "def init(x):\n",
    "    middle, width, height = 0.4, 0.1, 0.5   \n",
    "    return height/width**10 * (x%1-middle-width)**5 * \\\n",
    "                              (middle-x%1-width)**5 * (abs(x%1-middle)<=width)\n",
    "    \n",
    "def solution(t, x):\n",
    "    return init(x - c*t)*np.exp(-alpha*t)\n",
    "\n",
    "dico = {\n",
    "    'box':{'x':[0., 1.], 'label':-1},\n",
    "    'space_step':1./128,\n",
    "    'scheme_velocity':LA,\n",
    "    'schemes':[\n",
    "        {\n",
    "            'velocities':[1,2],\n",
    "            'conserved_moments':u,\n",
    "            'polynomials':[1,LA*X],\n",
    "            'relaxation_parameters':[0., 2.],\n",
    "            'equilibrium':[u, C*u],\n",
    "            'source_terms':{u:-ALPHA*u},\n",
    "            'init':{u:(init,)},\n",
    "        },\n",
    "    ],\n",
    "    'parameters': {LA: 1., C: c, ALPHA: alpha},\n",
    "}\n",
    "\n",
    "sol = pyLBM.Simulation(dico) # build the simulation\n",
    "viewer = pyLBM.viewer.matplotlibViewer\n",
    "fig = viewer.Fig()\n",
    "ax = fig[0]\n",
    "ax.axis(0., 1., -.1, .6)\n",
    "x = sol.domain.x[1:-1]\n",
    "ax.plot(x, sol.m[u][1:-1], width=2, color='k', label='initial')\n",
    "while sol.t < 1:\n",
    "    sol.one_time_step()\n",
    "ax.plot(x, sol.m[u][1:-1], width=2, color='b', label=r'$D_1Q_2$')\n",
    "ax.plot(x, solution(sol.t, x), width=2, color='r', label='exact')\n",
    "ax.legend()"
   ]
  },
  {
   "cell_type": "markdown",
   "metadata": {},
   "source": [
    "**A source term depending on time and space**\n",
    "\n",
    "If the source term $S$ depends explicitely on the time or on the space, we have to specify the corresponding variables in the dictionary through the key *parameters*. The time variable is prescribed by the key *'time'*. Moreover, sympy functions can be used to define the source term like in the following example. This example is just for testing the feature... no physical meaning in mind !"
   ]
  },
  {
   "cell_type": "code",
   "execution_count": 4,
   "metadata": {
    "collapsed": false
   },
   "outputs": [
    {
     "data": {
      "image/png": "[encoded data removed]",
      "text/plain": [
       "<matplotlib.figure.Figure at 0x110f85050>"
      ]
     },
     "metadata": {},
     "output_type": "display_data"
    }
   ],
   "source": [
    "t, C, X, u, LA = sp.symbols('t, C, X, u, LA')\n",
    "c = 0.3\n",
    "\n",
    "def init(x):\n",
    "    middle, width, height = 0.4, 0.1, 0.5   \n",
    "    return height/width**10 * (x%1-middle-width)**5 * \\\n",
    "                              (middle-x%1-width)**5 * (abs(x%1-middle)<=width)\n",
    "    \n",
    "dico = {\n",
    "    'box':{'x':[0., 1.], 'label':-1},\n",
    "    'space_step':1./128,\n",
    "    'scheme_velocity':LA,\n",
    "    'schemes':[\n",
    "        {\n",
    "            'velocities':[1,2],\n",
    "            'conserved_moments':u,\n",
    "            'polynomials':[1,LA*X],\n",
    "            'relaxation_parameters':[0., 2.],\n",
    "            'equilibrium':[u, C*u],\n",
    "            'source_terms':{u:-sp.Abs(X-t)**2*u},\n",
    "            'init':{u:(init,)},\n",
    "        },\n",
    "    ],\n",
    "    'generator':pyLBM.generator.CythonGenerator,\n",
    "    'parameters': {LA: 1., C: c, 'time': t},\n",
    "}\n",
    "\n",
    "sol = pyLBM.Simulation(dico) # build the simulation\n",
    "viewer = pyLBM.viewer.matplotlibViewer\n",
    "fig = viewer.Fig()\n",
    "ax = fig[0]\n",
    "ax.axis(0., 1., -.1, .6)\n",
    "x = sol.domain.x[1:-1]\n",
    "ax.plot(x, sol.m[u][1:-1], width=2, color='k', label='initial')\n",
    "while sol.t < 1:\n",
    "    sol.one_time_step()\n",
    "ax.plot(x, sol.m[u][1:-1], width=2, color='b', label=r'$D_1Q_2$')\n",
    "ax.legend()"
   ]
  },
  {
   "cell_type": "code",
   "execution_count": null,
   "metadata": {
    "collapsed": true
   },
   "outputs": [],
   "source": []
  }
 ],
 "metadata": {
  "kernelspec": {
   "display_name": "Python 2",
   "language": "python",
   "name": "python2"
  },
  "language_info": {
   "codemirror_mode": {
    "name": "ipython",
    "version": 2
   },
   "file_extension": ".py",
   "mimetype": "text/x-python",
   "name": "python",
   "nbconvert_exporter": "python",
   "pygments_lexer": "ipython2",
   "version": "2.7.11"
  }
 },
 "nbformat": 4,
 "nbformat_minor": 0
}
