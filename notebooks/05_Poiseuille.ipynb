{
 "cells": [
  {
   "cell_type": "markdown",
   "metadata": {},
   "source": [
    "# Poiseuille flow\n",
    "\n",
    "$$\n",
    "\\newcommand{\\DdQq}[2]{{\\mathrm D}_{#1}{\\mathrm Q}_{#2}}\n",
    "\\newcommand{\\drondt}{\\partial_t}\n",
    "\\newcommand{\\drondx}{\\partial_x}\n",
    "\\newcommand{\\drondy}{\\partial_y}\n",
    "\\newcommand{\\drondtt}{\\partial_{tt}}\n",
    "\\newcommand{\\drondxx}{\\partial_{xx}}\n",
    "\\newcommand{\\drondyy}{\\partial_{yy}}\n",
    "\\newcommand{\\dx}{\\Delta x}\n",
    "\\newcommand{\\dt}{\\Delta t}\n",
    "\\newcommand{\\grandO}{{\\mathcal O}}\n",
    "\\newcommand{\\density}[2]{\\,f_{#1}^{#2}}\n",
    "\\newcommand{\\fk}[1]{\\density{#1}{\\vphantom{\\star}}}\n",
    "\\newcommand{\\fks}[1]{\\density{#1}{\\star}}\n",
    "\\newcommand{\\moment}[2]{\\,m_{#1}^{#2}}\n",
    "\\newcommand{\\mk}[1]{\\moment{#1}{\\vphantom{\\star}}}\n",
    "\\newcommand{\\mke}[1]{\\moment{#1}{e}}\n",
    "\\newcommand{\\mks}[1]{\\moment{#1}{\\star}}\n",
    "$$\n",
    "\n",
    "In this tutorial, we consider the classical $\\DdQq{2}{9}$ to simulate a Poiseuille flow modeling by the Navier-Stokes equations."
   ]
  },
  {
   "cell_type": "markdown",
   "metadata": {},
   "source": [
    "**The** $\\DdQq{2}{9}$ **for Navier-Stokes**\n",
    "\n",
    "The $\\DdQq{2}{9}$ is defined by:\n",
    "\n",
    "* a space step $\\dx$ and a time step $\\dt$ related to the scheme velocity $\\lambda$ by the relation $\\lambda=\\dx/\\dt$,\n",
    "\n",
    "* nine velocities $\\{(0,0), (\\pm1,0), (0,\\pm1), (\\pm1, \\pm1)\\}$, identified in pyLBM by the \n",
    "numbers $0$ to $8$,\n",
    "\n",
    "* nine polynomials used to build the moments\n",
    "\n",
    "$$ \\{1, \\lambda X, \\lambda Y, 3E-4, (9E^2-21E+8)/2, 3XE-5X, 3YE-5Y,X^2-Y^2, XY\\},$$\n",
    "\n",
    "where $E = X^2+Y^2$.\n",
    "\n",
    "* three conserved moments $\\rho$, $q_x$, and $q_y$,\n",
    "\n",
    "* nine relaxation parameters (three are $0$ corresponding to conserved moments): $\\{0,0,0,s_\\mu,s_\\mu,s_\\eta,s_\\eta,s_\\eta,s_\\eta\\}$, where $s_\\mu$ and $s_\\eta$ are in $(0,2)$,\n",
    "\n",
    "* equilibrium value of the non conserved moments\n",
    "$$\n",
    "\\begin{aligned}\\mke{3} &= -2\\rho + 3(q_x^2+q_y^2)/(\\rho_0\\lambda^2), \\\\ \\mke{4} &= \\rho-3(q_x^2+q_y^2)/(\\rho_0\\lambda^2), \\\\ \\mke{5} &= -q_x/\\lambda, \\\\ \\mke{6} &= -q_y/\\lambda, \\\\ \\mke{7} &= (q_x^2-q_y^2)/(\\rho_0\\lambda^2), \\\\ \\mke{8} &= q_xq_y/(\\rho_0\\lambda^2),\\end{aligned}\n",
    "$$\n",
    "\n",
    "where $\\rho_0$ is a given scalar.\n",
    "\n",
    "This scheme is consistant at second order with the following equations (taken $\\rho_0=1$)\n",
    "\\begin{gather*} \\drondt\\rho + \\drondx q_x + \\drondy q_y = 0,\\\\ \\drondt q_x + \\drondx (q_x^2+p) + \\drondy (q_xq_y) = \\mu \\drondx (\\drondx q_x + \\drondy q_y ) + \\eta (\\drondxx+\\drondyy)q_x, \\\\ \\drondt q_y + \\drondx (q_xq_y) + \\drondy (q_y^2+p) = \\mu \\drondy (\\drondx q_x + \\drondy q_y ) + \\eta (\\drondxx+\\drondyy)q_y,\\end{gather*}\n",
    "with $p=\\rho\\lambda^2/3$."
   ]
  },
  {
   "cell_type": "markdown",
   "metadata": {},
   "source": [
    "**Build the simulation with pyLBM**\n",
    "\n",
    "In the following, we build the dictionary of the simulation step by step.\n",
    "\n",
    "*The geometry*\n",
    "\n",
    "The simulation is done on a rectangle of length $L$ and width $W$. We can use $L=W=1$.\n",
    "\n",
    "We propose a dictionary that build the geometry of the domain. The labels of the bounds can be specified to different values for the moment."
   ]
  },
  {
   "cell_type": "code",
   "execution_count": 1,
   "metadata": {
    "collapsed": true
   },
   "outputs": [],
   "source": [
    "%matplotlib inline"
   ]
  },
  {
   "cell_type": "code",
   "execution_count": 2,
   "metadata": {
    "collapsed": false
   },
   "outputs": [
    {
     "name": "stdout",
     "output_type": "stream",
     "text": [
      "Geometry informations\n",
      "\t spatial dimension: 2\n",
      "\t bounds of the box: \n",
      "[[ 0.   1. ]\n",
      " [-0.5  0.5]]\n",
      "\n"
     ]
    },
    {
     "data": {
      "image/png": "[encoded data removed]",
      "text/plain": [
       "<matplotlib.figure.Figure at 0x10db10e90>"
      ]
     },
     "metadata": {},
     "output_type": "display_data"
    }
   ],
   "source": [
    "import numpy as np\n",
    "import matplotlib.pyplot as plt\n",
    "\n",
    "import pyLBM\n",
    "\n",
    "L, W = 1., 1.\n",
    "dico_geom = {'box':{'x':[0,L], 'y':[-.5*W,.5*W], 'label':range(4)}}\n",
    "geom = pyLBM.Geometry(dico_geom)\n",
    "print geom\n",
    "geom.visualize(viewlabel=True)"
   ]
  },
  {
   "cell_type": "markdown",
   "metadata": {},
   "source": [
    "*The stencil*\n",
    "\n",
    "The stencil of the $\\DdQq{2}{9}$ is composed by the nine following velocities in 2D:\n",
    "$$\n",
    "\\begin{gather*}v_0=(0,0),\\\\ v_1=(1,0), \\quad v_2=(0,1), \\quad v_3=(-1,0), \\quad v_4=(0,-1), \\\\ v_5=(1,1), \\quad v_6=(-1,1), \\quad v_7=(-1,-1), \\quad v_8=(1,-1).\\end{gather*}\n",
    "$$"
   ]
  },
  {
   "cell_type": "code",
   "execution_count": 5,
   "metadata": {
    "collapsed": false
   },
   "outputs": [
    {
     "name": "stdout",
     "output_type": "stream",
     "text": [
      "Stencil informations\n",
      "\t * spatial dimension: 2\n",
      "\t * maximal velocity in each direction: [1 1]\n",
      "\t * minimal velocity in each direction: [-1 -1]\n",
      "\t * Informations for each elementary stencil:\n",
      "\t\tstencil 0\n",
      "\t\t - number of velocities:  9\n",
      "\t\t - velocities: (0: 0, 0), (1: 1, 0), (2: 0, 1), (3: -1, 0), (4: 0, -1), (5: 1, 1), (6: -1, 1), (7: -1, -1), (8: 1, -1), \n",
      "\n"
     ]
    },
    {
     "data": {
      "image/png": "[encoded data removed]",
      "text/plain": [
       "<matplotlib.figure.Figure at 0x110538c50>"
      ]
     },
     "metadata": {},
     "output_type": "display_data"
    }
   ],
   "source": [
    "dico_sten = {\n",
    "    'dim':2,\n",
    "    'schemes':[{'velocities':range(9)}],\n",
    "}\n",
    "sten = pyLBM.Stencil(dico_sten)\n",
    "print sten\n",
    "sten.visualize()"
   ]
  },
  {
   "cell_type": "markdown",
   "metadata": {},
   "source": [
    "*The domain*\n",
    "\n",
    "In order to build the domain of the simulation, the dictionary should contain the space step $\\dx$ and the stencils of the velocities (one for each scheme). "
   ]
  },
  {
   "cell_type": "code",
   "execution_count": 6,
   "metadata": {
    "collapsed": false
   },
   "outputs": [
    {
     "name": "stdout",
     "output_type": "stream",
     "text": [
      "Domain informations\n",
      "\t spatial dimension: 2\n",
      "\t bounds of the box: bounds = [[ 0.   1. ]\n",
      " [-0.5  0.5]]\n",
      "\t space step: dx= 1.000e-01\n",
      "\n"
     ]
    },
    {
     "data": {
      "image/png": "[encoded data removed]",
      "text/plain": [
       "<matplotlib.figure.Figure at 0x110cc7fd0>"
      ]
     },
     "metadata": {},
     "output_type": "display_data"
    }
   ],
   "source": [
    "dico_dom = {\n",
    "    'space_step':.1,\n",
    "    'box':{'x':[0,L], 'y':[-.5*W,.5*W], 'label':range(4)},\n",
    "    'schemes':[{'velocities':range(9)}],\n",
    "}\n",
    "dom = pyLBM.Domain(dico_dom)\n",
    "print dom\n",
    "dom.visualize(view_distance=True)"
   ]
  },
  {
   "cell_type": "markdown",
   "metadata": {},
   "source": [
    "*The scheme*\n",
    "\n",
    "In pyLBM, a simulation can be performed by using several coupled schemes. In this example, a single scheme is used and defined through a list of one single dictionary. This dictionary should contain:\n",
    "\n",
    "* 'velocities': a list of the velocities\n",
    "* 'conserved_moments': a list of the conserved moments as sympy variables\n",
    "* 'polynomials': a list of the polynomials that define the moments\n",
    "* 'equilibrium': a list of the equilibrium value of all the moments\n",
    "* 'relaxation_parameters': a list of the relaxation parameters ($0$ for the conserved moments)\n",
    "* 'init': a dictionary to initialize the conserved moments\n",
    "\n",
    "(see the documentation for more details)\n",
    "\n",
    "In order to fix the bulk ($\\mu$) and the shear ($\\eta$) viscosities, we impose\n",
    "$$ s_\\eta = \\frac{2}{1+\\eta d}, \\qquad s_\\mu = \\frac{2}{1+\\mu d}, \\qquad d = \\frac{6}{\\lambda\\rho_0\\dx}.$$\n",
    "\n",
    "The scheme velocity could be taken to $1$ and the inital value of $\\rho$ to $\\rho_0=1$, $q_x$ and $q_y$ to $0$.\n",
    "\n",
    "In order to accelerate the simulation, we can use another generator. The default generator is Numpy (pure python). We can use for instance Cython that generates a more efficient code. This generator can be activated by using  'generator': pyLBM.generator.CythonGenerator in the dictionary."
   ]
  },
  {
   "cell_type": "code",
   "execution_count": 8,
   "metadata": {
    "collapsed": false
   },
   "outputs": [
    {
     "name": "stdout",
     "output_type": "stream",
     "text": [
      "Scheme informations\n",
      "\t spatial dimension: dim=2\n",
      "\t number of schemes: nscheme=1\n",
      "\t number of velocities:\n",
      "    Stencil.nv[0]=9\n",
      "\t velocities value:\n",
      "    v[0]=(0: 0, 0), (1: 1, 0), (2: 0, 1), (3: -1, 0), (4: 0, -1), (5: 1, 1), (6: -1, 1), (7: -1, -1), (8: 1, -1), \n",
      "\t polynomials:\n",
      "    P[0]=Matrix([[1], [LA*X], [LA*Y], [3*X**2 + 3*Y**2 - 4], [-21*X**2/2 - 21*Y**2/2 + 9*(X**2 + Y**2)**2/2 + 4], [3*X*(X**2 + Y**2) - 5*X], [3*Y*(X**2 + Y**2) - 5*Y], [X**2 - Y**2], [X*Y]])\n",
      "\t equilibria:\n",
      "    EQ[0]=Matrix([[rho], [qx], [qy], [-2*rho + 3.0*qx**2/LA**2 + 3.0*qy**2/LA**2], [rho - 3.0*qx**2/LA**2 - 3.0*qy**2/LA**2], [-qx/LA], [-qy/LA], [1.0*qx**2/LA**2 - 1.0*qy**2/LA**2], [1.0*qx*qy/LA**2]])\n",
      "\t relaxation parameters:\n",
      "    s[0]=[0.0, 0.0, 0.0, 1.1312217194570136, 1.1312217194570136, 0.025706940874035987, 0.025706940874035987, 0.025706940874035987, 0.025706940874035987]\n",
      "\t moments matrices\n",
      "M = [Matrix([\n",
      "[ 1,  1,  1,   1,   1,  1,   1,   1,   1],\n",
      "[ 0, LA,  0, -LA,   0, LA, -LA, -LA,  LA],\n",
      "[ 0,  0, LA,   0, -LA, LA,  LA, -LA, -LA],\n",
      "[-4, -1, -1,  -1,  -1,  2,   2,   2,   2],\n",
      "[ 4, -2, -2,  -2,  -2,  1,   1,   1,   1],\n",
      "[ 0, -2,  0,   2,   0,  1,  -1,  -1,   1],\n",
      "[ 0,  0, -2,   0,   2,  1,   1,  -1,  -1],\n",
      "[ 0,  1, -1,   1,  -1,  0,   0,   0,   0],\n",
      "[ 0,  0,  0,   0,   0,  1,  -1,   1,  -1]])]\n",
      "invM = [Matrix([\n",
      "[1/9,         0,         0,  -1/9,   1/9,     0,     0,    0,    0],\n",
      "[1/9,  1/(6*LA),         0, -1/36, -1/18,  -1/6,     0,  1/4,    0],\n",
      "[1/9,         0,  1/(6*LA), -1/36, -1/18,     0,  -1/6, -1/4,    0],\n",
      "[1/9, -1/(6*LA),         0, -1/36, -1/18,   1/6,     0,  1/4,    0],\n",
      "[1/9,         0, -1/(6*LA), -1/36, -1/18,     0,   1/6, -1/4,    0],\n",
      "[1/9,  1/(6*LA),  1/(6*LA),  1/18,  1/36,  1/12,  1/12,    0,  1/4],\n",
      "[1/9, -1/(6*LA),  1/(6*LA),  1/18,  1/36, -1/12,  1/12,    0, -1/4],\n",
      "[1/9, -1/(6*LA), -1/(6*LA),  1/18,  1/36, -1/12, -1/12,    0,  1/4],\n",
      "[1/9,  1/(6*LA), -1/(6*LA),  1/18,  1/36,  1/12, -1/12,    0, -1/4]])]\n",
      "\n"
     ]
    }
   ],
   "source": [
    "import sympy as sp\n",
    "X, Y, rho, qx, qy, LA = sp.symbols('X, Y, rho, qx, qy, LA')\n",
    "\n",
    "# parameters\n",
    "dx = 1./128  # spatial step\n",
    "la = 1.      # velocity of the scheme\n",
    "L = 1        # length of the domain\n",
    "W = 1        # width of the domain\n",
    "rhoo = 1.    # mean value of the density\n",
    "mu   = 1.e-3 # shear viscosity\n",
    "eta = 1.e-1 # bulk viscosity\n",
    "# initialization\n",
    "xmin, xmax, ymin, ymax = 0.0, L, -0.5*W, 0.5*W\n",
    "dummy = 3.0/(la*rhoo*dx)\n",
    "s_mu = 1.0/(0.5+mu*dummy)\n",
    "s_eta = 1.0/(0.5+eta*dummy)\n",
    "s_q = s_eta\n",
    "s_es = s_mu\n",
    "s  = [0.,0.,0.,s_mu,s_es,s_q,s_q,s_eta,s_eta]\n",
    "dummy = 1./(LA**2*rhoo)\n",
    "qx2 = dummy*qx**2\n",
    "qy2 = dummy*qy**2\n",
    "q2  = qx2+qy2\n",
    "qxy = dummy*qx*qy\n",
    "\n",
    "dico_sch = {\n",
    "    'box':{'x':[xmin, xmax], 'y':[ymin, ymax], 'label':0},\n",
    "    'space_step':dx,\n",
    "    'scheme_velocity':la,\n",
    "    'parameters':{LA:la},\n",
    "    'schemes':[\n",
    "        {\n",
    "            'velocities':range(9),\n",
    "            'conserved_moments':[rho, qx, qy],\n",
    "            'polynomials':[\n",
    "                1, LA*X, LA*Y,\n",
    "                3*(X**2+Y**2)-4,\n",
    "                (9*(X**2+Y**2)**2-21*(X**2+Y**2)+8)/2,\n",
    "                3*X*(X**2+Y**2)-5*X, 3*Y*(X**2+Y**2)-5*Y,\n",
    "                X**2-Y**2, X*Y\n",
    "            ],\n",
    "            'relaxation_parameters':s,\n",
    "            'equilibrium':[\n",
    "                rho, qx, qy,\n",
    "                -2*rho + 3*q2,\n",
    "                rho-3*q2,\n",
    "                -qx/LA, -qy/LA,\n",
    "                qx2-qy2, qxy\n",
    "            ],\n",
    "            'init':{rho:rhoo, qx:0., qy:0.},\n",
    "        },\n",
    "    ],\n",
    "    'generator': pyLBM.generator.CythonGenerator,\n",
    "}\n",
    "sch = pyLBM.Scheme(dico_sch)\n",
    "print sch"
   ]
  },
  {
   "cell_type": "markdown",
   "metadata": {},
   "source": [
    "*Run the simulation*\n",
    "\n",
    "For the simulation, we take\n",
    "\n",
    "* The domain $x\\in(0, L)$ and $y\\in(-W/2,W/2)$, $L=2$, $W=1$,\n",
    "* the viscosities $\\mu=10^{-2}=\\eta=10^{-2}$, \n",
    "* the space step $\\dx=1/128$, the scheme velocity $\\lambda=1$, \n",
    "* the mean density $\\rho_0=1$.\n",
    "\n",
    "Concerning the boundary conditions, we impose the velocity on all the edges by a bounce-back condition with a source term that reads\n",
    "$$q_x(x, y) = \\rho_0 v_{\\text{max}} \\Bigl( 1 - \\frac{4y^2}{W^2} \\Bigr), \\qquad q_y(x, y) = 0,$$\n",
    "with $v_{\\text{max}}=0.1$.\n",
    "\n",
    "We compute the solution for $t\\in(0,50)$ and we plot several slices of the solution during the simulation. \n",
    "\n",
    "This problem has an exact solution given by\n",
    "$$ q_x = \\rho_0 v_{\\text{max}} \\Bigl( 1 - \\frac{4y^2}{W^2} \\Bigr), \\qquad q_y = 0, \\qquad p = p_0 + K x, $$\n",
    "where the pressure gradient $K$ reads\n",
    "$$K = -\\frac{8 v_{\\text{max}} \\eta}{W^2}.$$\n",
    "\n",
    "We compute the exact and the numerical gradients of the pressure."
   ]
  },
  {
   "cell_type": "code",
   "execution_count": 14,
   "metadata": {
    "collapsed": false
   },
   "outputs": [
    {
     "name": "stdout",
     "output_type": "stream",
     "text": [
      "Exact pressure gradient    : -8.000e-03\n",
      "Numerical pressure gradient: -7.582e-03\n"
     ]
    },
    {
     "data": {
      "image/png": "[encoded data removed]",
      "text/plain": [
       "<matplotlib.figure.Figure at 0x1120ba610>"
      ]
     },
     "metadata": {},
     "output_type": "display_data"
    }
   ],
   "source": [
    "X, Y, LA = sp.symbols('X, Y, LA')\n",
    "rho, qx, qy = sp.symbols('rho, qx, qy')\n",
    "\n",
    "def bc(f, m, x, y):\n",
    "    m[qx] = rhoo * vmax * (1.-4.*y**2/W**2)\n",
    "    m[qy] = 0.\n",
    "\n",
    "def plot_coupe(sol):\n",
    "    fig, ax1 = plt.subplots()\n",
    "    plt.hold(True)\n",
    "    ax2 = ax1.twinx()\n",
    "    ax1.cla()\n",
    "    ax2.cla()\n",
    "    mx = int(sol.domain.N[0]/2-1)\n",
    "    my = int(sol.domain.N[1]/2-1)\n",
    "    x = sol.domain.x[0][1:-1]\n",
    "    y = sol.domain.x[1][1:-1]\n",
    "    u = sol.m[qx][1:-1,1:-1] / rhoo\n",
    "    for i in [0,mx,-1]:\n",
    "        ax1.plot(y+x[i], u[i, :], 'b')\n",
    "    for j in [0,my,-1]:\n",
    "        ax1.plot(x+y[j], u[:,j], 'b')\n",
    "    ax1.set_ylabel('velocity', color='b')\n",
    "    for tl in ax1.get_yticklabels():\n",
    "        tl.set_color('b')\n",
    "    ax1.set_ylim(-.5*rhoo*vmax, 1.5*rhoo*vmax)\n",
    "    p = sol.m[rho][1:-1,my] * la**2 / 3.0\n",
    "    p -= np.average(p)\n",
    "    ax2.plot(x, p, 'r')\n",
    "    ax2.set_ylabel('pressure', color='r')\n",
    "    for tl in ax2.get_yticklabels():\n",
    "        tl.set_color('r')\n",
    "    ax2.set_ylim(pressure_gradient*L, -pressure_gradient*L)\n",
    "    plt.title('Poiseuille flow at t = {0:f}'.format(sol.t))\n",
    "    plt.draw()\n",
    "    plt.pause(1.e-3)\n",
    "\n",
    "# parameters\n",
    "dx = 1./16  # spatial step\n",
    "la = 1.      # velocity of the scheme\n",
    "Tf = 50      # final time of the simulation\n",
    "L = 2        # length of the domain\n",
    "W = 1        # width of the domain\n",
    "vmax = 0.1   # maximal velocity obtained in the middle of the channel\n",
    "rhoo = 1.    # mean value of the density\n",
    "mu = 1.e-2   # bulk viscosity\n",
    "eta = 1.e-2  # shear viscosity\n",
    "pressure_gradient = - vmax * 8.0 / W**2 * eta\n",
    "# initialization\n",
    "xmin, xmax, ymin, ymax = 0.0, L, -0.5*W, 0.5*W\n",
    "dummy = 3.0/(la*rhoo*dx)\n",
    "s_mu = 1.0/(0.5+mu*dummy)\n",
    "s_eta = 1.0/(0.5+eta*dummy)\n",
    "s_q = s_eta\n",
    "s_es = s_mu\n",
    "s  = [0.,0.,0.,s_mu,s_es,s_q,s_q,s_eta,s_eta]\n",
    "dummy = 1./(LA**2*rhoo)\n",
    "qx2 = dummy*qx**2\n",
    "qy2 = dummy*qy**2\n",
    "q2  = qx2+qy2\n",
    "qxy = dummy*qx*qy\n",
    "\n",
    "dico = {\n",
    "    'box':{'x':[xmin, xmax], 'y':[ymin, ymax], 'label':0},\n",
    "    'space_step':dx,\n",
    "    'scheme_velocity':la,\n",
    "    'parameters':{LA:la},\n",
    "    'schemes':[\n",
    "        {\n",
    "            'velocities':range(9),\n",
    "            'conserved_moments':[rho, qx, qy],\n",
    "            'polynomials':[\n",
    "                1, LA*X, LA*Y,\n",
    "                3*(X**2+Y**2)-4,\n",
    "                (9*(X**2+Y**2)**2-21*(X**2+Y**2)+8)/2,\n",
    "                3*X*(X**2+Y**2)-5*X, 3*Y*(X**2+Y**2)-5*Y,\n",
    "                X**2-Y**2, X*Y\n",
    "            ],\n",
    "            'relaxation_parameters':s,\n",
    "            'equilibrium':[\n",
    "                rho, qx, qy,\n",
    "                -2*rho + 3*q2,\n",
    "                rho-3*q2,\n",
    "                -qx/LA, -qy/LA,\n",
    "                qx2-qy2, qxy\n",
    "            ],\n",
    "            'init':{rho:rhoo, qx:0., qy:0.},\n",
    "        },\n",
    "    ],\n",
    "    'boundary_conditions':{\n",
    "        0:{'method':{0: pyLBM.bc.Bouzidi_bounce_back}, 'value':bc}\n",
    "    },\n",
    "    'generator': pyLBM.generator.CythonGenerator,\n",
    "}\n",
    "\n",
    "sol = pyLBM.Simulation(dico)\n",
    "while (sol.t<Tf):\n",
    "    sol.one_time_step()\n",
    "plot_coupe(sol)\n",
    "ny = int(sol.domain.N[1]/2)\n",
    "num_pressure_gradient = (sol.m[rho][-2,ny] - sol.m[rho][1,ny]) / (xmax-xmin) * la**2/ 3.0\n",
    "print \"Exact pressure gradient    : {0:10.3e}\".format(pressure_gradient)\n",
    "print \"Numerical pressure gradient: {0:10.3e}\".format(num_pressure_gradient)"
   ]
  },
  {
   "cell_type": "code",
   "execution_count": null,
   "metadata": {
    "collapsed": true
   },
   "outputs": [],
   "source": []
  }
 ],
 "metadata": {
  "kernelspec": {
   "display_name": "Python 2",
   "language": "python",
   "name": "python2"
  },
  "language_info": {
   "codemirror_mode": {
    "name": "ipython",
    "version": 2
   },
   "file_extension": ".py",
   "mimetype": "text/x-python",
   "name": "python",
   "nbconvert_exporter": "python",
   "pygments_lexer": "ipython2",
   "version": "2.7.11"
  }
 },
 "nbformat": 4,
 "nbformat_minor": 0
}
