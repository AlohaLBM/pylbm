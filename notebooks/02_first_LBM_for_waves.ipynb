{
 "cells": [
  {
   "cell_type": "markdown",
   "metadata": {},
   "source": [
    "#The wave equation in 1D\n",
    "\n",
    "$$\n",
    "\\newcommand{\\DdQq}[2]{{\\mathrm D}_{#1}{\\mathrm Q}_{#2}}\n",
    "\\newcommand{\\drondt}{\\partial_t}\n",
    "\\newcommand{\\drondx}{\\partial_x}\n",
    "\\newcommand{\\drondtt}{\\partial_{tt}}\n",
    "\\newcommand{\\drondxx}{\\partial_{xx}}\n",
    "\\newcommand{\\dx}{\\Delta x}\n",
    "\\newcommand{\\dt}{\\Delta t}\n",
    "\\newcommand{\\grandO}{{\\mathcal O}}\n",
    "\\newcommand{\\density}[2]{\\,f_{#1}^{#2}}\n",
    "\\newcommand{\\fk}[1]{\\density{#1}{\\vphantom{\\star}}}\n",
    "\\newcommand{\\fks}[1]{\\density{#1}{\\star}}\n",
    "\\newcommand{\\moment}[2]{\\,m_{#1}^{#2}}\n",
    "\\newcommand{\\mk}[1]{\\moment{#1}{\\vphantom{\\star}}}\n",
    "\\newcommand{\\mke}[1]{\\moment{#1}{e}}\n",
    "\\newcommand{\\mks}[1]{\\moment{#1}{\\star}}\n",
    "$$\n",
    "\n",
    "In this practical work session, we test a very classical lattice Boltzmann scheme $\\DdQq{1}{3}$ on the wave equation.\n",
    "\n",
    "The problem reads\n",
    "$$ \\drondtt\\rho = c^2 \\drondxx\\rho, \\qquad t>0, \\quad x\\in(0,2\\pi),$$\n",
    "where $c$ is a constant scalar. In this session, two different kinds of boundary conditions will be considered:\n",
    "\n",
    "* periodic conditions $\\rho(0)=\\rho(2\\pi)$,\n",
    "\n",
    "* Homogeneous Dirichlet conditions $\\rho(0)=\\rho(2\\pi)=0$.\n",
    "\n",
    "The problem is transformed into a one order system:\n",
    "\n",
    "$$\n",
    "\\begin{aligned} &\\drondt \\rho + \\drondx q = 0, && t>0, \\quad x\\in(0, 2\\pi),\\\\ &\\drondt q + c^2 \\drondx \\rho = 0, && t>0, \\quad x\\in(0, 2\\pi).\\end{aligned}\n",
    "$$"
   ]
  },
  {
   "cell_type": "markdown",
   "metadata": {},
   "source": [
    "##The scheme $\\DdQq{1}{3}$\n",
    "\n",
    "The numerical simulation of this equation by a lattice Boltzmann scheme consists in the approximation of the solution on discret points of $(0,2\\pi)$ at discret instants.\n",
    "\n",
    "The spatial mesh is defined by using a numpy array. To simplify, the mesh is supposed to be uniform.\n",
    "\n",
    "First, we import the package numpy and we create the spatial mesh. One phantom cell has to be added at each bound for the treatment of the boundary conditions."
   ]
  },
  {
   "cell_type": "code",
   "execution_count": null,
   "metadata": {
    "collapsed": true
   },
   "outputs": [],
   "source": [
    "%matplotlib inline "
   ]
  },
  {
   "cell_type": "code",
   "execution_count": 7,
   "metadata": {
    "collapsed": false
   },
   "outputs": [
    {
     "data": {
      "image/png": "[encoded data removed]",
      "text/plain": [
       "<matplotlib.figure.Figure at 0x7f9f905b8250>"
      ]
     },
     "metadata": {},
     "output_type": "display_data"
    }
   ],
   "source": [
    "import numpy as np\n",
    "import pylab as plt\n",
    "\n",
    "def mesh(N):\n",
    "    xmin, xmax = 0., 2.*np.pi\n",
    "    dx = (xmax-xmin)/N\n",
    "    x = np.linspace(xmin-.5*dx, xmax+.5*dx, N+2)\n",
    "    return x\n",
    "\n",
    "x = mesh(10)\n",
    "plt.plot(x, 0.*x, 'sk')\n",
    "plt.show()"
   ]
  },
  {
   "cell_type": "markdown",
   "metadata": {},
   "source": [
    "To simulate this system of equations, we use the $\\DdQq{1}{3}$ scheme given by\n",
    "\n",
    "* three velocities $v_0=0$, $v_1=1$, and $v_2=-1$, with associated distribution functions $\\fk{0}$, $\\fk{1}$, and $\\fk{2}$,\n",
    "\n",
    "* a space step $\\dx$ and a time step $\\dt$, the ration $\\lambda=\\dx/\\dt$ is called the scheme velocity,\n",
    "\n",
    "* three moments\n",
    "  $$ \\mk{0}=\\sum_{i=0}^{2} \\fk{i}, \\quad \\mk{1}= \\lambda \\sum_{i=0}^{2} v_i \\fk{i}, \\quad \\mk{2}= \\frac{\\lambda^2}{2} \\sum_{i=0}^{2} v_i^2 \\fk{i},$$\n",
    "  and their equilibrium values $\\mke{0} = \\mk{0}$, $\\mke{1} = \\mk{1}$, and $\\mke{2} = c^2/2 \\mk{0}$.\n",
    "\n",
    "* a relaxation parameter $s$ lying in $[0,2]$.\n",
    "\n",
    "In order to prepare the formalism of the package pyLBM, we introduce the three polynomials that define the moments: $P_0 = 1$, $P_1=\\lambda X$, and $P_2=\\lambda^2/2 X^2$, such that\n",
    "$$ \\mk{k} = \\sum_{i=0}^2 P_k(v_i) \\fk{i}.$$\n",
    "The transformation $(\\fk{0}, \\fk{1}, \\fk{2})\\mapsto(\\mk{0},\\mk{1}, \\mk{2})$ is invertible if, and only if, the polynomials $(P_0,P_1,P_2)$ is a free set over the stencil of velocities.\n",
    "\n",
    "The lattice Boltzmann method consists to compute the distribution functions $\\fk{0}$, $\\fk{1}$, and $\\fk{2}$ in each point of the lattice $x$ and at each time $t^n=n\\dt$.\n",
    "A step of the scheme can be read as a splitting between the relaxation phase and the transport phase:\n",
    "\n",
    "* relaxation: \n",
    "    $$\\mks{2}(t,x)=(1-s)\\mk{2}(t,x)+s\\mke{2}(t,x).$$\n",
    "* m2f: \n",
    "$$\n",
    "    \\begin{aligned}\\fks{0}(t,x)&\\;=\\mk{0}(t,x)-2\\mks{2}(t,x)/\\lambda^2, \\\\ \\fks{1}(t,x)&\\;=\\mk{1}(t,x)/(2\\lambda)+\\mks{2}(t,x)/\\lambda^2, \\\\ \\fks{2}(t,x)&\\;=-\\mk{1}(t,x)/(2\\lambda)+\\mks{2}(t,x)/\\lambda^2.\\end{aligned}\n",
    "    $$\n",
    "* transport: \n",
    "$$\n",
    "    \\begin{aligned} \\fk{0}(t+\\dt, x)&\\;=\\fks{0}(t,x), \\\\ \\fk{1}(t+\\dt, x)&\\;=\\fks{1}(t,x-\\dx), \\\\ \\fk{2}(t+\\dt, x)&\\;=\\fks{2}(t,x+\\dx). \\end{aligned}\n",
    "    $$\n",
    "* f2m:\n",
    "$$\n",
    "    \\begin{aligned}\\mk{0}(t+\\dt,x)&\\;=\\fk{0}(t+\\dt,x)+\\fk{1}(t+\\dt,x)+\\fk{2}(t+\\dt,x), \\\\ \\mk{1}(t+\\dt,x)&\\;=\\lambda\\fk{1}(t+\\dt,x)-\\lambda\\fk{2}(t+\\dt,x), \\\\ \\mk{2}(t+\\dt,x)&\\;=\\tfrac{1}{2}\\lambda^2\\fk{1}(t+\\dt,x)+\\tfrac{1}{2}\\lambda^2\\fk{2}(t+\\dt,x).\\end{aligned}\n",
    "$$\n",
    "\n",
    "The moments of order $0$, $\\mk{0}$, and of order $1$, $\\mk{1}$, being conserved during the relaxation phase, the equivalent equations of this scheme read at first order\n",
    "\n",
    "$$\n",
    "\\begin{aligned}&\\drondt\\mk{0} + \\drondx\\mk{1} = \\grandO(\\dt),\\\\ &\\drondt\\mk{1} + 2\\drondx\\mke{2} = \\grandO(\\dt). \\end{aligned}\n",
    "$$\n",
    "\n",
    "We implement a function equilibrium that computes the equilibrium value $\\mke{2}$, the moment of order $0$, $\\mk{0}$, and the velocity $c$ being given in argument."
   ]
  },
  {
   "cell_type": "code",
   "execution_count": 2,
   "metadata": {
    "collapsed": true
   },
   "outputs": [],
   "source": [
    "def equilibrium(m0, c):\n",
    "    return .5*c**2*m0"
   ]
  },
  {
   "cell_type": "markdown",
   "metadata": {},
   "source": [
    "We create three vectors $\\mk{0}$, $\\mk{1}$, and $\\mk{2}$ with shape the shape of the mesh and initialize them. The moments of order $0$ and $1$ should contain the initial value of the unknowns $\\rho$ and $q$, and the moment of order $2$ the corresponding equilibrium value.\n",
    "\n",
    "We create also three vectors $\\fk{0}$, $\\fk{1}$ and $\\fk{2}$."
   ]
  },
  {
   "cell_type": "code",
   "execution_count": 3,
   "metadata": {
    "collapsed": true
   },
   "outputs": [],
   "source": [
    "def initialize(mesh, c, la):\n",
    "    m0 = np.sin(mesh)\n",
    "    m1 = np.zeros(mesh.shape)\n",
    "    m2 = equilibrium(m0, c)\n",
    "    f0 = np.empty(m0.shape)\n",
    "    f1 = np.empty(m0.shape)\n",
    "    f2 = np.empty(m0.shape)\n",
    "    return f0, f1, f2, m0, m1, m2"
   ]
  },
  {
   "cell_type": "markdown",
   "metadata": {},
   "source": [
    "## Periodic boundary conditions\n",
    "\n",
    "We implement the four elementary functions f2m, relaxation, m2f, and transport. In the transport function, the boundary conditions should be implemented: we will use periodic conditions by copying the informations in the phantom cells."
   ]
  },
  {
   "cell_type": "code",
   "execution_count": 4,
   "metadata": {
    "collapsed": true
   },
   "outputs": [],
   "source": [
    "def f2m(f0, f1, f2, m0, m1, m2, la):\n",
    "    m0[:] = f0 + f1 + f2\n",
    "    m1[:] = la * (f2 - f1)\n",
    "    m2[:] = .5* la**2 * (f1 + f2)\n",
    "\n",
    "def m2f(f0, f1, f2, m0, m1, m2, la):\n",
    "    f0[:] = m0 - 2./la**2 * m2\n",
    "    f1[:] = -.5/la * m1 + 1/la**2 * m2\n",
    "    f2[:] = .5/la * m1 + 1/la**2 * m2\n",
    "\n",
    "def relaxation(m0, m1, m2, c, s):\n",
    "    m2[:] *= (1-s)\n",
    "    m2[:] += s*equilibrium(m0, c)\n",
    "\n",
    "def transport(f0, f1, f2):\n",
    "    # periodic boundary conditions\n",
    "    f1[-1] = f1[1]\n",
    "    f2[0] = f2[-2]\n",
    "    # transport\n",
    "    f1[1:-1] = f1[2:]\n",
    "    f2[1:-1] = f2[:-2]"
   ]
  },
  {
   "cell_type": "markdown",
   "metadata": {},
   "source": [
    "We compute and we plot the numerical solution at time $T_f=2\\pi$."
   ]
  },
  {
   "cell_type": "code",
   "execution_count": 5,
   "metadata": {
    "collapsed": false
   },
   "outputs": [
    {
     "data": {
      "image/png": "[encoded data removed]",
      "text/plain": [
       "<matplotlib.figure.Figure at 0x7f9f90206d50>"
      ]
     },
     "metadata": {},
     "output_type": "display_data"
    },
    {
     "data": {
      "image/png": "[encoded data removed]",
      "text/plain": [
       "<matplotlib.figure.Figure at 0x7f9f90192150>"
      ]
     },
     "metadata": {},
     "output_type": "display_data"
    }
   ],
   "source": [
    "# parameters\n",
    "c = 1   # velocity for the transport equation\n",
    "Tf = 2.*np.pi # final time\n",
    "N = 128 # number of points in space\n",
    "la = 1. # scheme velocity\n",
    "s = 2.  # relaxation parameter\n",
    "# initialization\n",
    "x = mesh(N)     # mesh\n",
    "dx = x[1]-x[0]  # space step\n",
    "dt = dx/la      # time step\n",
    "f0, f1, f2, m0, m1, m2 = initialize(x, c, la)\n",
    "plt.figure(1)\n",
    "plt.plot(x[1:-1], m0[1:-1], 'r', label=r'$\\rho$')\n",
    "plt.plot(x[1:-1], m1[1:-1], 'b', label=r'$q$')\n",
    "plt.title('Initial moments')\n",
    "plt.legend(loc='best')\n",
    "# time loops\n",
    "nt = int(Tf/dt)\n",
    "m2f(f0, f1, f2, m0, m1, m2, la)\n",
    "for k in range(nt):\n",
    "    transport(f0, f1, f2)\n",
    "    f2m(f0, f1, f2, m0, m1, m2, la)\n",
    "    relaxation(m0, m1, m2, c, s)\n",
    "    m2f(f0, f1, f2, m0, m1, m2, la)\n",
    "plt.figure(2)\n",
    "plt.plot(x[1:-1], m0[1:-1], 'r', label=r'$\\rho$')\n",
    "plt.plot(x[1:-1], m1[1:-1], 'b', label=r'$q$')\n",
    "plt.title('Final moments')\n",
    "plt.legend(loc='best')\n",
    "plt.show()"
   ]
  },
  {
   "cell_type": "markdown",
   "metadata": {},
   "source": [
    "##Anti bounce back conditions\n",
    "\n",
    "In order to take into account homogenous Dirichlet conditions over $\\rho$, we introduce the bounce back conditions. At edge $x=0$, two points are involved: $x_0=-\\dx/2$ and $x_1=\\dx/2$. We impose $\\fk{1}(x_0)=-\\fk{2}(x_1)$. And at edge $x=2\\pi$, the two involved points are $x_{N}$ and $x_{N+1}$. We impose $\\fk{2}(x_{N+1})=-\\fk{1}(x_{N})$.\n",
    "\n",
    "We modify the transport function to impose anti bounce back conditions. We can compare the solutions obtained with the two different boundary conditions."
   ]
  },
  {
   "cell_type": "code",
   "execution_count": 6,
   "metadata": {
    "collapsed": false
   },
   "outputs": [
    {
     "data": {
      "image/png": "[encoded data removed]",
      "text/plain": [
       "<matplotlib.figure.Figure at 0x7f9f9028e050>"
      ]
     },
     "metadata": {},
     "output_type": "display_data"
    },
    {
     "data": {
      "image/png": "[encoded data removed]",
      "text/plain": [
       "<matplotlib.figure.Figure at 0x7f9f8ff9b1d0>"
      ]
     },
     "metadata": {},
     "output_type": "display_data"
    }
   ],
   "source": [
    "def transport(f0, f1, f2):\n",
    "    # anti bounce back boundary conditions\n",
    "    f1[-1] = -f2[-2]\n",
    "    f2[0] = -f1[1]\n",
    "    # transport\n",
    "    f1[1:-1] = f1[2:]\n",
    "    f2[1:-1] = f2[:-2]\n",
    "\n",
    "\n",
    "# parameters\n",
    "c = 1   # velocity for the transport equation\n",
    "Tf = 2*np.pi # final time\n",
    "N = 128 # number of points in space\n",
    "la = 1. # scheme velocity\n",
    "s = 2.  # relaxation parameter\n",
    "# initialization\n",
    "x = mesh(N)     # mesh\n",
    "dx = x[1]-x[0]  # space step\n",
    "dt = dx/la      # time step\n",
    "f0, f1, f2, m0, m1, m2 = initialize(x, c, la)\n",
    "plt.figure(1)\n",
    "plt.plot(x[1:-1], m0[1:-1], 'r', label=r'$\\rho$')\n",
    "plt.plot(x[1:-1], m1[1:-1], 'b', label=r'$q$')\n",
    "plt.title('Initial moments')\n",
    "plt.legend(loc='best')\n",
    "# time loops\n",
    "nt = int(Tf/dt)\n",
    "m2f(f0, f1, f2, m0, m1, m2, la)\n",
    "for k in range(nt):\n",
    "    transport(f0, f1, f2)\n",
    "    f2m(f0, f1, f2, m0, m1, m2, la)\n",
    "    relaxation(m0, m1, m2, c, s)\n",
    "    m2f(f0, f1, f2, m0, m1, m2, la)\n",
    "plt.figure(2)\n",
    "plt.plot(x[1:-1], m0[1:-1], 'r', label=r'$\\rho$')\n",
    "plt.plot(x[1:-1], m1[1:-1], 'b', label=r'$q$')\n",
    "plt.title('Final moments')\n",
    "plt.legend(loc='best')\n",
    "plt.show()"
   ]
  }
 ],
 "metadata": {
  "kernelspec": {
   "display_name": "Python 2",
   "language": "python",
   "name": "python2"
  },
  "language_info": {
   "codemirror_mode": {
    "name": "ipython",
    "version": 2
   },
   "file_extension": ".py",
   "mimetype": "text/x-python",
   "name": "python",
   "nbconvert_exporter": "python",
   "pygments_lexer": "ipython2",
   "version": "2.7.10"
  }
 },
 "nbformat": 4,
 "nbformat_minor": 0
}
